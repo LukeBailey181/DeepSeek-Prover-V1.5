{
 "cells": [
  {
   "cell_type": "markdown",
   "metadata": {},
   "source": [
    "# Dataset Processing"
   ]
  },
  {
   "cell_type": "markdown",
   "metadata": {},
   "source": []
  },
  {
   "cell_type": "code",
   "execution_count": 1,
   "metadata": {},
   "outputs": [],
   "source": [
    "import json"
   ]
  },
  {
   "cell_type": "code",
   "execution_count": 36,
   "metadata": {},
   "outputs": [
    {
     "name": "stdout",
     "output_type": "stream",
     "text": [
      "488\n",
      "244\n",
      "244\n",
      "67\n"
     ]
    }
   ],
   "source": [
    "# Load the minif2f dataset\n",
    "with open('/nas/ucb/lukebailey/DeepSeek-Prover-V1.5/datasets/minif2f.jsonl', 'r') as f:\n",
    "    minif2f_data = [json.loads(line) for line in f]\n",
    "\n",
    "minif2f_test = [d for d in minif2f_data if d['split'] == 'test']\n",
    "minif2f_valid = [d for d in minif2f_data if d['split'] == 'valid']\n",
    "\n",
    "print(len(minif2f_data))\n",
    "print(len(minif2f_test))\n",
    "print(len(minif2f_valid))\n",
    "\n",
    "with open('/nas/ucb/lukebailey/DeepSeek-Prover-V1.5/datasets/minif2f_valid_few_shot.jsonl', 'r') as f:\n",
    "    minif2f_valid_few_shot_data = [json.loads(line) for line in f]\n",
    "\n",
    "print(len(minif2f_valid_few_shot_data))\n"
   ]
  },
  {
   "cell_type": "code",
   "execution_count": 27,
   "metadata": {},
   "outputs": [],
   "source": [
    "def print_dict(d):\n",
    "    for key, value in d.items():\n",
    "        print(f\"{key}\\n{value}\")\n",
    "        print(\"-\"*100)"
   ]
  },
  {
   "cell_type": "code",
   "execution_count": 28,
   "metadata": {},
   "outputs": [
    {
     "name": "stdout",
     "output_type": "stream",
     "text": [
      "name\n",
      "mathd_algebra_182\n",
      "----------------------------------------------------------------------------------------------------\n",
      "split\n",
      "valid\n",
      "----------------------------------------------------------------------------------------------------\n",
      "informal_prefix\n",
      "/-- Expand the following expression: $7(3y+2)$ Show that it is 21y+14.-/\n",
      "\n",
      "----------------------------------------------------------------------------------------------------\n",
      "formal_statement\n",
      "theorem mathd_algebra_182 (y : ℂ) : 7 * (3 * y + 2) = 21 * y + 14 := by\n",
      "\n",
      "----------------------------------------------------------------------------------------------------\n",
      "formal_proof\n",
      "  /- We apply the distributive property to get\\begin{align*}\n",
      "  7(3y+2) &= 7\\cdot 3y+7\\cdot 2\\\\\n",
      "  &= 21y+14.\n",
      "  \\end{align*}\n",
      "  -/\n",
      "  ring\n",
      "----------------------------------------------------------------------------------------------------\n"
     ]
    }
   ],
   "source": [
    "print_dict(minif2f_valid_few_shot_data[0])\n"
   ]
  },
  {
   "cell_type": "code",
   "execution_count": 29,
   "metadata": {},
   "outputs": [
    {
     "name": "stdout",
     "output_type": "stream",
     "text": [
      "name\n",
      "amc12a_2019_p21\n",
      "----------------------------------------------------------------------------------------------------\n",
      "split\n",
      "valid\n",
      "----------------------------------------------------------------------------------------------------\n",
      "informal_prefix\n",
      "/-- Let $z=\\frac{1+i}{\\sqrt{2}}.$What is $\\left(z^{1^2}+z^{2^2}+z^{3^2}+\\dots+z^{{12}^2}\\right) \\cdot \\left(\\frac{1}{z^{1^2}}+\\frac{1}{z^{2^2}}+\\frac{1}{z^{3^2}}+\\dots+\\frac{1}{z^{{12}^2}}\\right)?$\n",
      "\n",
      "$\\textbf{(A) } 18 \\qquad \\textbf{(B) } 72-36\\sqrt2 \\qquad \\textbf{(C) } 36 \\qquad \\textbf{(D) } 72 \\qquad \\textbf{(E) } 72+36\\sqrt2$ Show that it is \\textbf{(C) }36.-/\n",
      "\n",
      "----------------------------------------------------------------------------------------------------\n",
      "formal_statement\n",
      "theorem amc12a_2019_p21 (z : ℂ) (h₀ : z = (1 + Complex.I) / Real.sqrt 2) :\n",
      "  ((∑ k : ℤ in Finset.Icc 1 12, z ^ k ^ 2) * (∑ k : ℤ in Finset.Icc 1 12, 1 / z ^ k ^ 2)) = 36 := by\n",
      "\n",
      "----------------------------------------------------------------------------------------------------\n",
      "goal\n",
      "z : ℂ\n",
      "h₀ : z = (1 + Complex.I) / ↑√2\n",
      "⊢ (∑ k ∈ Finset.Icc 1 12, z ^ k ^ 2) * ∑ k ∈ Finset.Icc 1 12, 1 / z ^ k ^ 2 = 36\n",
      "----------------------------------------------------------------------------------------------------\n",
      "header\n",
      "import Mathlib\n",
      "import Aesop\n",
      "\n",
      "set_option maxHeartbeats 0\n",
      "\n",
      "open BigOperators Real Nat Topology Rat\n",
      "\n",
      "\n",
      "----------------------------------------------------------------------------------------------------\n"
     ]
    }
   ],
   "source": [
    "print_dict(minif2f_data[0])"
   ]
  },
  {
   "cell_type": "code",
   "execution_count": 30,
   "metadata": {},
   "outputs": [
    {
     "name": "stdout",
     "output_type": "stream",
     "text": [
      "dict_keys(['name', 'split', 'informal_prefix', 'formal_statement', 'goal', 'header'])\n",
      "dict_keys(['name', 'split', 'informal_prefix', 'formal_statement', 'formal_proof'])\n"
     ]
    }
   ],
   "source": [
    "print(minif2f_data[0].keys())\n",
    "print(minif2f_valid_few_shot_data[0].keys())"
   ]
  },
  {
   "cell_type": "markdown",
   "metadata": {},
   "source": [
    "### Conclusion\n",
    "\n",
    "minif2f_data has all the data we need. Goal is the goal in general math. formal_statment is what we want to use, this is the goal written in LEAN and put in a theorem environment."
   ]
  },
  {
   "cell_type": "code",
   "execution_count": 39,
   "metadata": {},
   "outputs": [
    {
     "name": "stdout",
     "output_type": "stream",
     "text": [
      "130\n",
      "{'mathd_numbertheory_155', 'mathd_algebra_22', 'mathd_numbertheory_101', 'mathd_algebra_192', 'mathd_numbertheory_709', 'mathd_algebra_327', 'mathd_numbertheory_156', 'mathd_numbertheory_169', 'mathd_numbertheory_43', 'mathd_numbertheory_198', 'mathd_algebra_96', 'mathd_numbertheory_202', 'mathd_algebra_323', 'mathd_numbertheory_92', 'mathd_numbertheory_543', 'mathd_algebra_123', 'mathd_algebra_15', 'mathd_algebra_109', 'mathd_algebra_37', 'mathd_algebra_224', 'mathd_algebra_482', 'mathd_numbertheory_668', 'mathd_algebra_101', 'mathd_numbertheory_326', 'mathd_numbertheory_132', 'mathd_algebra_251', 'mathd_algebra_185', 'mathd_algebra_11', 'mathd_algebra_214', 'mathd_numbertheory_45', 'mathd_numbertheory_32', 'mathd_algebra_182', 'mathd_algebra_422', 'mathd_numbertheory_84', 'mathd_algebra_28', 'mathd_algebra_13', 'mathd_algebra_462', 'mathd_numbertheory_200', 'mathd_algebra_48', 'mathd_numbertheory_370', 'mathd_algebra_140', 'mathd_numbertheory_33', 'mathd_numbertheory_48', 'mathd_numbertheory_24', 'mathd_numbertheory_64', 'mathd_algebra_149', 'mathd_algebra_568', 'mathd_algebra_10', 'mathd_algebra_437', 'mathd_numbertheory_412', 'mathd_numbertheory_110', 'mathd_algebra_31', 'mathd_algebra_451', 'mathd_numbertheory_458', 'mathd_algebra_119', 'mathd_numbertheory_405', 'mathd_numbertheory_188', 'mathd_numbertheory_35', 'mathd_algebra_455', 'mathd_algebra_104', 'mathd_algebra_493', 'mathd_algebra_247', 'mathd_numbertheory_335', 'mathd_numbertheory_303', 'mathd_numbertheory_109', 'mathd_algebra_69', 'mathd_algebra_421', 'mathd_numbertheory_236', 'mathd_numbertheory_961', 'mathd_algebra_480', 'mathd_numbertheory_221', 'mathd_algebra_181', 'mathd_algebra_510', 'mathd_numbertheory_22', 'mathd_numbertheory_149', 'mathd_algebra_116', 'mathd_algebra_132', 'mathd_numbertheory_780', 'mathd_algebra_509', 'mathd_algebra_159', 'mathd_algebra_536', 'mathd_algebra_51', 'mathd_numbertheory_301', 'mathd_numbertheory_269', 'mathd_numbertheory_640', 'mathd_numbertheory_136', 'mathd_numbertheory_37', 'mathd_algebra_616', 'mathd_algebra_245', 'mathd_numbertheory_81', 'mathd_algebra_282', 'mathd_numbertheory_211', 'mathd_numbertheory_284', 'mathd_numbertheory_252', 'mathd_algebra_190', 'mathd_algebra_234', 'mathd_algebra_405', 'mathd_algebra_267', 'mathd_algebra_433', 'mathd_algebra_55', 'mathd_algebra_547', 'mathd_numbertheory_629', 'mathd_algebra_77', 'mathd_algebra_110', 'mathd_algebra_73', 'mathd_numbertheory_126', 'mathd_numbertheory_30', 'mathd_numbertheory_42', 'mathd_algebra_206', 'mathd_algebra_35', 'mathd_algebra_144', 'mathd_algebra_89', 'mathd_algebra_43', 'mathd_numbertheory_739', 'mathd_algebra_59', 'mathd_numbertheory_403', 'mathd_algebra_410', 'mathd_numbertheory_232', 'mathd_algebra_126', 'mathd_numbertheory_690', 'mathd_algebra_67', 'mathd_numbertheory_530', 'mathd_algebra_131', 'mathd_numbertheory_466', 'mathd_numbertheory_257', 'mathd_algebra_393', 'mathd_numbertheory_13', 'mathd_numbertheory_102', 'mathd_algebra_151', 'mathd_numbertheory_461'}\n",
      "\n",
      "20\n",
      "{'imo_2006_p3', 'imo_1987_p6', 'imo_1973_p3', 'imo_1987_p4', 'imo_1979_p1', 'imo_1988_p6', 'imo_1964_p1_2', 'imo_1978_p5', 'imo_1974_p5', 'imo_1990_p3', 'imo_1965_p1', 'imo_1966_p4', 'imo_1977_p5', 'imo_1993_p5', 'imo_1967_p3', 'imo_1964_p1_1', 'imo_1966_p5', 'imo_1961_p1', 'imo_1984_p2', 'imo_1962_p4'}\n"
     ]
    }
   ],
   "source": [
    "math_minif2f_data = [x for x in minif2f_valid if \"math\" in x[\"name\"]]\n",
    "\n",
    "imo_minif2f_data = [x for x in minif2f_valid if \"imo\" in x[\"name\"]]\n",
    "print(len(math_minif2f_data))\n",
    "print(set([x[\"name\"] for x in math_minif2f_data]))\n",
    "print()\n",
    "print(len(imo_minif2f_data))\n",
    "print(set([x[\"name\"] for x in imo_minif2f_data]))\n"
   ]
  },
  {
   "cell_type": "code",
   "execution_count": 40,
   "metadata": {},
   "outputs": [],
   "source": [
    "# Save math_minif2f_data to a new file and ino_minif2f_data to a new file\n",
    "with open('/nas/ucb/lukebailey/DeepSeek-Prover-V1.5/datasets/math_minif2f_data.jsonl', 'w') as f:\n",
    "    for x in math_minif2f_data:\n",
    "        f.write(json.dumps(x) + '\\n')\n",
    "\n",
    "with open('/nas/ucb/lukebailey/DeepSeek-Prover-V1.5/datasets/imo_minif2f_data.jsonl', 'w') as f:\n",
    "    for x in imo_minif2f_data:\n",
    "        f.write(json.dumps(x) + '\\n')"
   ]
  },
  {
   "cell_type": "code",
   "execution_count": null,
   "metadata": {},
   "outputs": [],
   "source": []
  }
 ],
 "metadata": {
  "kernelspec": {
   "display_name": "lean",
   "language": "python",
   "name": "python3"
  },
  "language_info": {
   "codemirror_mode": {
    "name": "ipython",
    "version": 3
   },
   "file_extension": ".py",
   "mimetype": "text/x-python",
   "name": "python",
   "nbconvert_exporter": "python",
   "pygments_lexer": "ipython3",
   "version": "3.10.16"
  }
 },
 "nbformat": 4,
 "nbformat_minor": 2
}
